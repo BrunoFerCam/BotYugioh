{
  "nbformat": 4,
  "nbformat_minor": 0,
  "metadata": {
    "colab": {
      "provenance": [],
      "include_colab_link": true
    },
    "kernelspec": {
      "name": "python3",
      "display_name": "Python 3"
    },
    "language_info": {
      "name": "python"
    }
  },
  "cells": [
    {
      "cell_type": "markdown",
      "metadata": {
        "id": "view-in-github",
        "colab_type": "text"
      },
      "source": [
        "<a href=\"https://colab.research.google.com/github/BrunoFerCam/BotYugioh/blob/main/BotYugioh.ipynb\" target=\"_parent\"><img src=\"https://colab.research.google.com/assets/colab-badge.svg\" alt=\"Open In Colab\"/></a>"
      ]
    },
    {
      "cell_type": "code",
      "metadata": {
        "id": "VswSp51nB6gT",
        "outputId": "134c4d1f-f508-4d2c-ee8f-591b1c210647",
        "colab": {
          "base_uri": "https://localhost:8080/"
        }
      },
      "source": [
        "! pip install pytelegrambotapi\n",
        "! pip install requests\n",
        "! pip install random"
      ],
      "execution_count": 1,
      "outputs": [
        {
          "output_type": "stream",
          "name": "stdout",
          "text": [
            "Collecting pytelegrambotapi\n",
            "  Downloading pytelegrambotapi-4.18.1-py3-none-any.whl (242 kB)\n",
            "\u001b[2K     \u001b[90m━━━━━━━━━━━━━━━━━━━━━━━━━━━━━━━━━━━━━━━━\u001b[0m \u001b[32m242.9/242.9 kB\u001b[0m \u001b[31m4.0 MB/s\u001b[0m eta \u001b[36m0:00:00\u001b[0m\n",
            "\u001b[?25hRequirement already satisfied: requests in /usr/local/lib/python3.10/dist-packages (from pytelegrambotapi) (2.31.0)\n",
            "Requirement already satisfied: charset-normalizer<4,>=2 in /usr/local/lib/python3.10/dist-packages (from requests->pytelegrambotapi) (3.3.2)\n",
            "Requirement already satisfied: idna<4,>=2.5 in /usr/local/lib/python3.10/dist-packages (from requests->pytelegrambotapi) (3.7)\n",
            "Requirement already satisfied: urllib3<3,>=1.21.1 in /usr/local/lib/python3.10/dist-packages (from requests->pytelegrambotapi) (2.0.7)\n",
            "Requirement already satisfied: certifi>=2017.4.17 in /usr/local/lib/python3.10/dist-packages (from requests->pytelegrambotapi) (2024.2.2)\n",
            "Installing collected packages: pytelegrambotapi\n",
            "Successfully installed pytelegrambotapi-4.18.1\n",
            "Requirement already satisfied: requests in /usr/local/lib/python3.10/dist-packages (2.31.0)\n",
            "Requirement already satisfied: charset-normalizer<4,>=2 in /usr/local/lib/python3.10/dist-packages (from requests) (3.3.2)\n",
            "Requirement already satisfied: idna<4,>=2.5 in /usr/local/lib/python3.10/dist-packages (from requests) (3.7)\n",
            "Requirement already satisfied: urllib3<3,>=1.21.1 in /usr/local/lib/python3.10/dist-packages (from requests) (2.0.7)\n",
            "Requirement already satisfied: certifi>=2017.4.17 in /usr/local/lib/python3.10/dist-packages (from requests) (2024.2.2)\n",
            "\u001b[31mERROR: Could not find a version that satisfies the requirement random (from versions: none)\u001b[0m\u001b[31m\n",
            "\u001b[0m\u001b[31mERROR: No matching distribution found for random\u001b[0m\u001b[31m\n",
            "\u001b[0m"
          ]
        }
      ]
    },
    {
      "cell_type": "code",
      "metadata": {
        "id": "ESncf9PDCa7W"
      },
      "source": [
        "import telebot\n",
        "import requests\n",
        "import random"
      ],
      "execution_count": 2,
      "outputs": []
    },
    {
      "cell_type": "code",
      "metadata": {
        "id": "6umXZI0eCfIS"
      },
      "source": [
        "API_TOKEN = '6754784484:AAEZSpJAWx7px3V2rksmIgtU5-DLzp1CrIk'\n",
        "bot = telebot.TeleBot(API_TOKEN)"
      ],
      "execution_count": 62,
      "outputs": []
    },
    {
      "cell_type": "code",
      "metadata": {
        "id": "bBKBLu_HDTOM"
      },
      "source": [
        "def get_all_cards():\n",
        "    response = requests.get('https://db.ygoprodeck.com/api/v7/cardinfo.php')\n",
        "    if response.status_code == 200:\n",
        "        data = response.json()\n",
        "        return data.get('data', [])\n",
        "    return []\n",
        "\n",
        "# Function to get a random card\n",
        "def get_random_card():\n",
        "    cards = get_all_cards()\n",
        "    if cards:\n",
        "        card = random.choice(cards)\n",
        "        return format_card_info(card)\n",
        "    return \"Failed to retrieve card information.\"\n",
        "\n",
        "# Function to get a random card based on a specific context\n",
        "def get_card_by_context(context):\n",
        "    cards = get_all_cards()\n",
        "    filtered_cards = []\n",
        "\n",
        "    # Define keywords and associated card properties\n",
        "    keywords = {\n",
        "    'fire': {'attribute': 'FIRE'},\n",
        "    'water': {'attribute': 'WATER'},\n",
        "    'earth': {'attribute': 'EARTH'},\n",
        "    'wind': {'attribute': 'WIND'},\n",
        "    'light': {'attribute': 'LIGHT'},\n",
        "    'dark': {'attribute': 'DARK'},\n",
        "    'quick spell': {'type': 'Spell Card', 'race': 'Quick-Play'},\n",
        "    'ritual': {'type': 'Ritual Monster'},\n",
        "    'fusion': {'type': 'Fusion Monster'},\n",
        "    'synchro': {'type': 'Synchro Monster'},\n",
        "    'xyz': {'type': 'XYZ Monster'},\n",
        "    'link': {'type': 'Link Monster'},\n",
        "    'pendulum': {'type': 'Pendulum Monster'},\n",
        "    'tuner': {'type': 'Tuner Monster'},\n",
        "    'field spell': {'type': 'Spell Card', 'race': 'Field'},\n",
        "    'equip spell': {'type': 'Spell Card', 'race': 'Equip'},\n",
        "    'quick-play spell': {'type': 'Spell Card', 'race': 'Quick-Play'},\n",
        "    'continuous spell': {'type': 'Spell Card', 'race': 'Continuous'},\n",
        "    'normal spell': {'type': 'Spell Card', 'race': 'Normal'},\n",
        "    'counter trap': {'type': 'Trap Card', 'race': 'Counter'},\n",
        "    'normal trap': {'type': 'Trap Card', 'race': 'Normal'},\n",
        "    'continuous trap': {'type': 'Trap Card', 'race': 'Continuous'},\n",
        "    'counter trap': {'type': 'Trap Card', 'race': 'Counter'},\n",
        "    'dragon': {'race': 'Dragon'},\n",
        "    'spellcaster': {'race': 'Spellcaster'},\n",
        "    'fiend': {'race': 'Fiend'},\n",
        "    'fairy': {'race': 'Fairy'},\n",
        "    'beast': {'race': 'Beast'},\n",
        "    'beast-warrior': {'race': 'Beast-Warrior'},\n",
        "    'plant': {'race': 'Plant'},\n",
        "    'insect': {'race': 'Insect'},\n",
        "    'thunder': {'race': 'Thunder'},\n",
        "    'aqua': {'race': 'Aqua'},\n",
        "    'pyro': {'race': 'Pyro'},\n",
        "    'rock': {'race': 'Rock'},\n",
        "    'winged-beast': {'race': 'Winged Beast'},\n",
        "    'machine': {'race': 'Machine'},\n",
        "    'dinosaur': {'race': 'Dinosaur'},\n",
        "    'fish': {'race': 'Fish'},\n",
        "    'sea serpent': {'race': 'Sea Serpent'},\n",
        "    'reptile': {'race': 'Reptile'},\n",
        "    'psychic': {'race': 'Psychic'},\n",
        "    'wyrm': {'race': 'Wyrm'},\n",
        "    'cyberse': {'race': 'Cyberse'},\n",
        "    'divine-beast': {'race': 'Divine-Beast'},\n",
        "    'creator god': {'race': 'Creator God'},\n",
        "    'rock': {'race': 'Rock'},\n",
        "    'pyro': {'race': 'Pyro'},\n",
        "    'sea serpent': {'race': 'Sea Serpent'},\n",
        "    'spellcaster': {'race': 'Spellcaster'},\n",
        "    'thunder': {'race': 'Thunder'},\n",
        "    'warrior': {'race': 'Warrior'},\n",
        "    'pendulum': {'pendulum_scale': True},\n",
        "    'normal': {'type': 'Normal'},\n",
        "    'effect': {'type': 'Effect'},\n",
        "    'tuner': {'type': 'Tuner'},\n",
        "    'gemini': {'type': 'Gemini'},\n",
        "    'union': {'type': 'Union'},\n",
        "    'toon': {'type': 'Toon'},\n",
        "    # Marker to recognize Pendulum cards\n",
        "    # Add more keywords as needed\n",
        "    }\n",
        "\n",
        "    context_words = context.split()\n",
        "    for card in cards:\n",
        "        match = True\n",
        "        for word in context_words:\n",
        "            word_lower = word.lower()\n",
        "            if word_lower in keywords:\n",
        "                properties = keywords[word_lower]\n",
        "                if 'pendulum_scale' in properties:\n",
        "                    if 'pendulum' not in card['type'].lower():\n",
        "                        match = False\n",
        "                        break\n",
        "                else:\n",
        "                    if not all(card.get(prop) == value for prop, value in properties.items()):\n",
        "                        match = False\n",
        "                        break\n",
        "        if match:\n",
        "            filtered_cards.append(card)\n",
        "\n",
        "    # Return a random card from the filtered list, or a default message if no matches\n",
        "    if filtered_cards:\n",
        "        card = random.choice(filtered_cards)\n",
        "        return format_card_info(card)\n",
        "    else:\n",
        "        return \"No cards found matching the specified context.\"\n",
        "\n",
        "# Function to format card information\n",
        "def format_card_info(card):\n",
        "    card_info = (\n",
        "        f\"**Name:** {card['name']}\\n\"\n",
        "        f\"**Type:** {card['type']}\\n\"\n",
        "    )\n",
        "    if 'Monster' in card['type']:\n",
        "        card_info += f\"**Attribute:** {card['attribute']}\\n\"\n",
        "        card_info += f\"**ATK:** {card['atk']}\\n\"\n",
        "        if 'Link' in card['type']:\n",
        "            card_info += f\"**Link Rating:** {card['linkval']}\\n\"\n",
        "            card_info += f\"**Link Arrows:** {', '.join(card['linkmarkers'])}\\n\"\n",
        "        else:\n",
        "            card_info += f\"**DEF:** {card['def']}\\n\"\n",
        "            card_info += f\"**Level:** {card['level']}\\n\"\n",
        "        if 'Pendulum' in card['type']:\n",
        "            card_info += f\"**Pendulum Scale:** {card['scale']}\\n\"\n",
        "        card_info += f\"**Race:** {card['race']}\\n\"\n",
        "        card_info += f\"**Description:** {card['desc']}\\n\"\n",
        "    elif 'Spell' in card['type'] or 'Trap' in card['type']:\n",
        "        card_info += (\n",
        "            f\"**Card Type:** {card['race']}\\n\"\n",
        "            f\"**Description:** {card['desc']}\\n\"\n",
        "        )\n",
        "    if 'card_images' in card and len(card['card_images']) > 0:\n",
        "        card_info += f\"**Image URL:** {card['card_images'][0]['image_url']}\\n\"\n",
        "    return card_info\n",
        "\n",
        "\n",
        "# Message handler that interprets user's message and provides a card based on context\n",
        "@bot.message_handler(func=lambda message: message.text is not None)\n",
        "def interpret_message(message):\n",
        "    user_message = message.text.lower()\n",
        "    if \"random card\" in user_message or \"yugioh card\" in user_message or \"random\" in user_message:\n",
        "        card_info = get_random_card()\n",
        "    else:\n",
        "        card_info = get_card_by_context(user_message)\n",
        "    bot.reply_to(message, card_info, parse_mode='Markdown')\n",
        "\n"
      ],
      "execution_count": 63,
      "outputs": []
    },
    {
      "cell_type": "code",
      "metadata": {
        "id": "yV0aZxrhDfzP"
      },
      "source": [
        "bot.polling()"
      ],
      "execution_count": null,
      "outputs": []
    }
  ]
}