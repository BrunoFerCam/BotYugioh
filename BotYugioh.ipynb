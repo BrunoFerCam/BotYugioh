{
  "nbformat": 4,
  "nbformat_minor": 0,
  "metadata": {
    "colab": {
      "provenance": [],
      "include_colab_link": true
    },
    "kernelspec": {
      "name": "python3",
      "display_name": "Python 3"
    },
    "language_info": {
      "name": "python"
    }
  },
  "cells": [
    {
      "cell_type": "markdown",
      "metadata": {
        "id": "view-in-github",
        "colab_type": "text"
      },
      "source": [
        "<a href=\"https://colab.research.google.com/github/BrunoFerCam/BotYugioh/blob/main/BotYugioh.ipynb\" target=\"_parent\"><img src=\"https://colab.research.google.com/assets/colab-badge.svg\" alt=\"Open In Colab\"/></a>"
      ]
    },
    {
      "cell_type": "code",
      "metadata": {
        "id": "VswSp51nB6gT",
        "outputId": "b0d05fea-bcea-4cd3-edab-47f2dcba4022",
        "colab": {
          "base_uri": "https://localhost:8080/"
        }
      },
      "source": [
        "! pip install pytelegrambotapi\n",
        "! pip install requests\n",
        "! pip install random\n",
        "! pip install re"
      ],
      "execution_count": 73,
      "outputs": [
        {
          "output_type": "stream",
          "name": "stdout",
          "text": [
            "Requirement already satisfied: pytelegrambotapi in /usr/local/lib/python3.10/dist-packages (4.18.1)\n",
            "Requirement already satisfied: requests in /usr/local/lib/python3.10/dist-packages (from pytelegrambotapi) (2.31.0)\n",
            "Requirement already satisfied: charset-normalizer<4,>=2 in /usr/local/lib/python3.10/dist-packages (from requests->pytelegrambotapi) (3.3.2)\n",
            "Requirement already satisfied: idna<4,>=2.5 in /usr/local/lib/python3.10/dist-packages (from requests->pytelegrambotapi) (3.7)\n",
            "Requirement already satisfied: urllib3<3,>=1.21.1 in /usr/local/lib/python3.10/dist-packages (from requests->pytelegrambotapi) (2.0.7)\n",
            "Requirement already satisfied: certifi>=2017.4.17 in /usr/local/lib/python3.10/dist-packages (from requests->pytelegrambotapi) (2024.2.2)\n",
            "Requirement already satisfied: requests in /usr/local/lib/python3.10/dist-packages (2.31.0)\n",
            "Requirement already satisfied: charset-normalizer<4,>=2 in /usr/local/lib/python3.10/dist-packages (from requests) (3.3.2)\n",
            "Requirement already satisfied: idna<4,>=2.5 in /usr/local/lib/python3.10/dist-packages (from requests) (3.7)\n",
            "Requirement already satisfied: urllib3<3,>=1.21.1 in /usr/local/lib/python3.10/dist-packages (from requests) (2.0.7)\n",
            "Requirement already satisfied: certifi>=2017.4.17 in /usr/local/lib/python3.10/dist-packages (from requests) (2024.2.2)\n",
            "\u001b[31mERROR: Could not find a version that satisfies the requirement random (from versions: none)\u001b[0m\u001b[31m\n",
            "\u001b[0m\u001b[31mERROR: No matching distribution found for random\u001b[0m\u001b[31m\n",
            "\u001b[0m\u001b[31mERROR: Could not find a version that satisfies the requirement re (from versions: none)\u001b[0m\u001b[31m\n",
            "\u001b[0m\u001b[31mERROR: No matching distribution found for re\u001b[0m\u001b[31m\n",
            "\u001b[0m"
          ]
        }
      ]
    },
    {
      "cell_type": "code",
      "metadata": {
        "id": "ESncf9PDCa7W"
      },
      "source": [
        "import telebot\n",
        "import requests\n",
        "import random\n",
        "import re"
      ],
      "execution_count": 74,
      "outputs": []
    },
    {
      "cell_type": "code",
      "metadata": {
        "id": "6umXZI0eCfIS"
      },
      "source": [
        "API_TOKEN = '6754784484:AAEZSpJAWx7px3V2rksmIgtU5-DLzp1CrIk'\n",
        "bot = telebot.TeleBot(API_TOKEN)"
      ],
      "execution_count": 105,
      "outputs": []
    },
    {
      "cell_type": "code",
      "metadata": {
        "id": "bBKBLu_HDTOM"
      },
      "source": [
        "def get_all_cards():\n",
        "    response = requests.get('https://db.ygoprodeck.com/api/v7/cardinfo.php')\n",
        "    if response.status_code == 200:\n",
        "        data = response.json()\n",
        "        return data.get('data', [])\n",
        "    return []\n",
        "\n",
        "def get_random_card():\n",
        "    cards = get_all_cards()\n",
        "    if cards:\n",
        "        card = random.choice(cards)\n",
        "        return format_card_info(card)\n",
        "    return \"Failed to retrieve card information.\"\n",
        "\n",
        "def get_card_by_context(context):\n",
        "    cards = get_all_cards()\n",
        "    filtered_cards = []\n",
        "\n",
        "    keywords = {\n",
        "    # Attributes\n",
        "    'fire': {'attribute': 'FIRE'},\n",
        "    'water': {'attribute': 'WATER'},\n",
        "    'earth': {'attribute': 'EARTH'},\n",
        "    'wind': {'attribute': 'WIND'},\n",
        "    'light': {'attribute': 'LIGHT'},\n",
        "    'dark': {'attribute': 'DARK'},\n",
        "\n",
        "    # Monster Types\n",
        "    'ritual': {'type': 'Ritual'},\n",
        "    'fusion': {'type': 'Fusion'},\n",
        "    'synchro': {'type': 'Synchro'},\n",
        "    'xyz': {'type': 'XYZ'},\n",
        "    'link': {'type': 'Link'},\n",
        "    'pendulum': {'type': 'Pendulum'},\n",
        "    'tuner': {'type': 'Tuner'},\n",
        "    'normal': {'type': 'Normal'},\n",
        "    'effect': {'type': 'Effect'},\n",
        "    'tuner': {'type': 'Tuner'},\n",
        "    'gemini': {'type': 'Gemini'},\n",
        "    'union': {'type': 'Union'},\n",
        "    'toon': {'type': 'Toon'},\n",
        "\n",
        "    # Spell Types\n",
        "    'quick spell': {'type': 'Spell Card', 'race': 'Quick-Play'},\n",
        "    'field spell': {'type': 'Spell Card', 'race': 'Field'},\n",
        "    'equip spell': {'type': 'Spell Card', 'race': 'Equip'},\n",
        "    'normal spell': {'type': 'Spell Card', 'race': 'Normal'},\n",
        "    'quick-play spell': {'type': 'Spell Card', 'race': 'Quick-Play'},\n",
        "    'continuous spell': {'type': 'Spell Card', 'race': 'Continuous'},\n",
        "\n",
        "    # Trap Types\n",
        "    'counter trap': {'type': 'Trap Card', 'race': 'Counter'},\n",
        "    'normal trap': {'type': 'Trap Card', 'race': 'Normal'},\n",
        "    'continuous trap': {'type': 'Trap Card', 'race': 'Continuous'},\n",
        "    'trap': {'type': 'Trap Card'},\n",
        "\n",
        "    # Races\n",
        "    'aqua': {'race': 'Aqua'},\n",
        "    'beast-warrior': {'race': 'Beast-Warrior'},\n",
        "    'cyberse': {'race': 'Cyberse'},\n",
        "    'dinosaur': {'race': 'Dinosaur'},\n",
        "    'divine-beast': {'race': 'Divine-Beast'},\n",
        "    'dragon': {'race': 'Dragon'},\n",
        "    'fairy': {'race': 'Fairy'},\n",
        "    'fiend': {'race': 'Fiend'},\n",
        "    'fish': {'race': 'Fish'},\n",
        "    'illusion': {'race': 'Illusion'},\n",
        "    'insect': {'race': 'Insect'},\n",
        "    'machine': {'race': 'Machine'},\n",
        "    'plant': {'race': 'Plant'},\n",
        "    'psychic': {'race': 'Psychic'},\n",
        "    'pyro': {'race': 'Pyro'},\n",
        "    'reptile': {'race': 'Reptile'},\n",
        "    'rock': {'race': 'Rock'},\n",
        "    'sea serpent': {'race': 'Sea Serpent'},\n",
        "    'spellcaster': {'race': 'Spellcaster'},\n",
        "    'thunder': {'race': 'Thunder'},\n",
        "    'warrior': {'race': 'Warrior'},\n",
        "    'winged beast': {'race': 'Winged Beast'},\n",
        "    'wyrm': {'race': 'Wyrm'},\n",
        "    'zombie': {'race': 'Zombie'},\n",
        "    'beast': {'race': 'Beast'},\n",
        "    'warrior': {'race': 'Warrior'},\n",
        "    }\n",
        "\n",
        "\n",
        "    context_words = context.split()\n",
        "    found_keyword = False\n",
        "    for card in cards:\n",
        "        match = True\n",
        "        for word in context_words:\n",
        "            word_lower = word.lower()\n",
        "            if word_lower in keywords:\n",
        "                found_keyword = True\n",
        "                properties = keywords[word_lower]\n",
        "                for prop, value in properties.items():\n",
        "                    if prop == 'type':\n",
        "                        if value not in card['type']:\n",
        "                            match = False\n",
        "                            break\n",
        "                    else:\n",
        "                        if card.get(prop) != value:\n",
        "                            match = False\n",
        "                            break\n",
        "        if match:\n",
        "            filtered_cards.append(card)\n",
        "\n",
        "    if found_keyword and filtered_cards:\n",
        "        card = random.choice(filtered_cards)\n",
        "        return format_card_info(card)\n",
        "    else:\n",
        "        return \"No card was found.\"\n",
        "        return None\n",
        "\n",
        "def format_card_info(card):\n",
        "    card_info = (\n",
        "        f\"**Name:** {card['name']}\\n\"\n",
        "        f\"**Type:** {card['type']}\\n\"\n",
        "    )\n",
        "    if 'Monster' in card['type']:\n",
        "        card_info += f\"**Attribute:** {card['attribute']}\\n\"\n",
        "        card_info += f\"**ATK:** {card['atk']}\\n\"\n",
        "        if 'Link' in card['type']:\n",
        "            card_info += f\"**Link Rating:** {card['linkval']}\\n\"\n",
        "            card_info += f\"**Link Arrows:** {', '.join(card['linkmarkers'])}\\n\"\n",
        "        else:\n",
        "            card_info += f\"**DEF:** {card['def']}\\n\"\n",
        "            if 'XYZ' in card['type']:\n",
        "              card_info += f\"**Rank:** {card['level']}\\n\"\n",
        "            else:\n",
        "              card_info += f\"**Level:** {card['level']}\\n\"\n",
        "        if 'Pendulum' in card['type']:\n",
        "            card_info += f\"**Pendulum Scale:** {card['scale']}\\n\"\n",
        "        card_info += f\"**Race:** {card['race']}\\n\"\n",
        "        card_info += f\"**Description:** {card['desc']}\\n\"\n",
        "    elif 'Spell' in card['type'] or 'Trap' in card['type']:\n",
        "        card_info += (\n",
        "            f\"**Card Type:** {card['race']}\\n\"\n",
        "            f\"**Description:** {card['desc']}\\n\"\n",
        "        )\n",
        "    if 'card_images' in card and len(card['card_images']) > 0:\n",
        "        card_info += f\"**Image URL:** {card['card_images'][0]['image_url']}\\n\"\n",
        "    return card_info\n",
        "\n",
        "@bot.message_handler(func=lambda message: message.text is not None)\n",
        "def interpret_message(message):\n",
        "    user_message = message.text.lower()\n",
        "    if \"random\" in user_message or \"random card\" in user_message:\n",
        "        card_info = get_random_card()\n",
        "        bot.reply_to(message, card_info, parse_mode='Markdown')\n",
        "    else:\n",
        "        card_info = get_card_by_context(user_message)\n",
        "        if card_info is not None:\n",
        "            bot.reply_to(message, card_info, parse_mode='Markdown')\n"
      ],
      "execution_count": 106,
      "outputs": []
    },
    {
      "cell_type": "code",
      "metadata": {
        "id": "yV0aZxrhDfzP"
      },
      "source": [
        "bot.polling()"
      ],
      "execution_count": null,
      "outputs": []
    }
  ]
}